import streamlit as st
import pandas as pd
import seaborn as sns
import matplotlib.pyplot as plt

st.title("Your Project Title")

@st.cache_data
def load_data():
    return pd.read_csv("your_data.csv")  # etc.

df = load_data()

st.subheader("Raw Data")
st.dataframe(df)

st.subheader("Plot Example")
fig, ax = plt.subplots()
sns.lineplot(data=df, x="Date", y="Unemployment Rate", ax=ax)
st.pyplot(fig)
